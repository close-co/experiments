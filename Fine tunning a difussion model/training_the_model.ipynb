{
 "cells": [
  {
   "cell_type": "code",
   "execution_count": 4,
   "metadata": {},
   "outputs": [],
   "source": [
    "!export MODEL_NAME=\"runwayml/stable-diffusion-v1-5\""
   ]
  },
  {
   "cell_type": "code",
   "execution_count": 16,
   "metadata": {},
   "outputs": [
    {
     "name": "stdout",
     "output_type": "stream",
     "text": [
      "The following values were not passed to `accelerate launch` and had defaults used instead:\n",
      "\t`--num_cpu_threads_per_process` was set to `8` to improve out-of-box performance when training on CPUs\n",
      "To avoid this warning pass in values for each of the problematic parameters or run `accelerate config`.\n",
      "04/14/2024 10:37:47 - INFO - __main__ - Distributed environment: DistributedType.NO\n",
      "Num processes: 1\n",
      "Process index: 0\n",
      "Local process index: 0\n",
      "Device: cpu\n",
      "\n",
      "Mixed precision type: fp16\n",
      "\n",
      "Traceback (most recent call last):\n",
      "  File \"/Users/valentinafeve/.venvs/aivision3.11/lib/python3.11/site-packages/huggingface_hub/utils/_errors.py\", line 304, in hf_raise_for_status\n",
      "    response.raise_for_status()\n",
      "  File \"/Users/valentinafeve/.venvs/aivision3.11/lib/python3.11/site-packages/requests/models.py\", line 1021, in raise_for_status\n",
      "    raise HTTPError(http_error_msg, response=self)\n",
      "requests.exceptions.HTTPError: 401 Client Error: Unauthorized for url: https://huggingface.co/api/repos/create\n",
      "\n",
      "The above exception was the direct cause of the following exception:\n",
      "\n",
      "Traceback (most recent call last):\n",
      "  File \"/Users/valentinafeve/Projects/Close/experiments/Fine tunning a difussion model/train_text_to_image.py\", line 1097, in <module>\n",
      "    main()\n",
      "  File \"/Users/valentinafeve/Projects/Close/experiments/Fine tunning a difussion model/train_text_to_image.py\", line 562, in main\n",
      "    repo_id = create_repo(\n",
      "              ^^^^^^^^^^^^\n",
      "  File \"/Users/valentinafeve/.venvs/aivision3.11/lib/python3.11/site-packages/huggingface_hub/utils/_validators.py\", line 119, in _inner_fn\n",
      "    return fn(*args, **kwargs)\n",
      "           ^^^^^^^^^^^^^^^^^^^\n",
      "  File \"/Users/valentinafeve/.venvs/aivision3.11/lib/python3.11/site-packages/huggingface_hub/hf_api.py\", line 3360, in create_repo\n",
      "    hf_raise_for_status(r)\n",
      "  File \"/Users/valentinafeve/.venvs/aivision3.11/lib/python3.11/site-packages/huggingface_hub/utils/_errors.py\", line 371, in hf_raise_for_status\n",
      "    raise HfHubHTTPError(str(e), response=response) from e\n",
      "huggingface_hub.utils._errors.HfHubHTTPError: 401 Client Error: Unauthorized for url: https://huggingface.co/api/repos/create (Request ID: Root=1-661bf84b-03789ace70491e9e228bf834;bb1b22c9-71a1-483d-9356-556c6daa8fe1)\n",
      "\n",
      "Invalid username or password.\n",
      "Traceback (most recent call last):\n",
      "  File \"/Users/valentinafeve/.venvs/aivision3.11/bin/accelerate\", line 8, in <module>\n",
      "    sys.exit(main())\n",
      "             ^^^^^^\n",
      "  File \"/Users/valentinafeve/.venvs/aivision3.11/lib/python3.11/site-packages/accelerate/commands/accelerate_cli.py\", line 46, in main\n",
      "    args.func(args)\n",
      "  File \"/Users/valentinafeve/.venvs/aivision3.11/lib/python3.11/site-packages/accelerate/commands/launch.py\", line 1075, in launch_command\n",
      "    simple_launcher(args)\n",
      "  File \"/Users/valentinafeve/.venvs/aivision3.11/lib/python3.11/site-packages/accelerate/commands/launch.py\", line 681, in simple_launcher\n",
      "    raise subprocess.CalledProcessError(returncode=process.returncode, cmd=cmd)\n",
      "subprocess.CalledProcessError: Command '['/Users/valentinafeve/.venvs/aivision3.11/bin/python', 'train_text_to_image.py', '--pretrained_model_name_or_path=runwayml/stable-diffusion-v1-5', '--dataset_name=web_dataset', '--use_ema', '--resolution=512', '--center_crop', '--random_flip', '--train_batch_size=1', '--gradient_accumulation_steps=4', '--gradient_checkpointing', '--max_train_steps=15000', '--learning_rate=1e-05', '--max_grad_norm=1', '--enable_xformers_memory_efficient_attention', '--lr_scheduler=constant', '--lr_warmup_steps=0', '--output_dir=sd-pokemon-model', '--push_to_hub']' returned non-zero exit status 1.\n"
     ]
    }
   ],
   "source": [
    "!accelerate launch --mixed_precision=\"fp16\"  train_text_to_image.py \\\n",
    "  --pretrained_model_name_or_path=\"runwayml/stable-diffusion-v1-5\" \\\n",
    "  --dataset_name=\"web_dataset\" \\\n",
    "  --use_ema \\\n",
    "  --resolution=512 --center_crop --random_flip \\\n",
    "  --train_batch_size=1 \\\n",
    "  --gradient_accumulation_steps=4 \\\n",
    "  --gradient_checkpointing \\\n",
    "  --max_train_steps=15000 \\\n",
    "  --learning_rate=1e-05 \\\n",
    "  --max_grad_norm=1 \\\n",
    "  --enable_xformers_memory_efficient_attention \\\n",
    "  --lr_scheduler=\"constant\" --lr_warmup_steps=0 \\\n",
    "  --output_dir=\"sd-pokemon-model\" \\\n",
    "  --push_to_hub"
   ]
  },
  {
   "cell_type": "code",
   "execution_count": null,
   "metadata": {},
   "outputs": [],
   "source": []
  }
 ],
 "metadata": {
  "kernelspec": {
   "display_name": "aivision3.11",
   "language": "python",
   "name": "python3"
  },
  "language_info": {
   "codemirror_mode": {
    "name": "ipython",
    "version": 3
   },
   "file_extension": ".py",
   "mimetype": "text/x-python",
   "name": "python",
   "nbconvert_exporter": "python",
   "pygments_lexer": "ipython3",
   "version": "3.11.7"
  }
 },
 "nbformat": 4,
 "nbformat_minor": 2
}
